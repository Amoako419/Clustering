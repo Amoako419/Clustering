{
 "cells": [
  {
   "cell_type": "code",
   "execution_count": 1,
   "metadata": {},
   "outputs": [
    {
     "name": "stdout",
     "output_type": "stream",
     "text": [
      "Cross-tabulation table for Feature1:\n",
      "Feature1  A  B\n",
      "Target        \n",
      "1         3  1\n",
      "2         0  2\n",
      "\n",
      "Cross-tabulation table for Feature2:\n",
      "Feature2  X  Y\n",
      "Target        \n",
      "1         1  3\n",
      "2         2  0\n"
     ]
    }
   ],
   "source": [
    "import pandas as pd\n",
    "\n",
    "# Sample dataset with features and 'Target' representing cluster assignments\n",
    "data = {\n",
    "    'Feature1': ['A', 'B', 'A', 'A', 'B', 'B'],\n",
    "    'Feature2': ['X', 'X', 'Y', 'Y', 'X', 'Y'],\n",
    "    'Target': [1, 2, 1, 1, 2, 1]\n",
    "}\n",
    "\n",
    "# The pandas DataFrame holding our data\n",
    "df = pd.DataFrame(data)\n",
    "\n",
    "# Using pandas crosstab to create cross-tabulation tables\n",
    "table1 = pd.crosstab(df['Target'], df['Feature1'])\n",
    "table2 = pd.crosstab(df['Target'], df['Feature2'])\n",
    "\n",
    "# Displaying the cross-tabulation tables\n",
    "print(\"Cross-tabulation table for Feature1:\")\n",
    "print(table1)\n",
    "print(\"\\nCross-tabulation table for Feature2:\")\n",
    "print(table2)"
   ]
  },
  {
   "cell_type": "code",
   "execution_count": null,
   "metadata": {},
   "outputs": [],
   "source": [
    "import pandas as pd\n",
    "\n",
    "# Sample dataset\n",
    "data = {\n",
    "    'Feature1': ['A', 'B', 'A', 'C', 'B', 'B', 'A', 'C'],\n",
    "    'Feature2': ['X', 'Y', 'X', 'Z', 'Y', 'Y', 'X', 'Z'],\n",
    "    'Target': [1, 2, 1, 1, 2, 2, 1, 1]\n",
    "}\n",
    "\n",
    "# TODO: Create a DataFrame called df with a sample dataset\n",
    "df = pd.DataFrame(data)\n",
    "\n",
    "# TODO: Perform cross-tabulation between 'Target' and 'Feature1', save it to cross_tab1\n",
    "cross_tab1 = pd.crosstab(df['Target'],df['Feature1'])\n",
    "\n",
    "# TODO: Perform cross-tabulation between 'Target' and 'Feature2', save it to cross_tab2\n",
    "cross_tab2 = pd.crosstab(df['Target'],df['Feature2'])\n",
    "# TODO: Print out cross_tab1 and cross_tab2 with a descriptive message\n",
    "print(\"Cross-tabulation table for Feature1:\")\n",
    "print(cross_tab1)\n",
    "print(\"\\nCross-tabulation table for Feature2:\")\n",
    "print(cross_tab2)"
   ]
  }
 ],
 "metadata": {
  "kernelspec": {
   "display_name": "base",
   "language": "python",
   "name": "python3"
  },
  "language_info": {
   "codemirror_mode": {
    "name": "ipython",
    "version": 3
   },
   "file_extension": ".py",
   "mimetype": "text/x-python",
   "name": "python",
   "nbconvert_exporter": "python",
   "pygments_lexer": "ipython3",
   "version": "3.11.7"
  }
 },
 "nbformat": 4,
 "nbformat_minor": 2
}
