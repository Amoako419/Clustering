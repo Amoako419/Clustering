{
 "cells": [
  {
   "cell_type": "code",
   "execution_count": 1,
   "metadata": {},
   "outputs": [
    {
     "name": "stdout",
     "output_type": "stream",
     "text": [
      "Cross-tabulation table for Feature1:\n",
      "Feature1  A  B\n",
      "Target        \n",
      "1         3  1\n",
      "2         0  2\n",
      "\n",
      "Cross-tabulation table for Feature2:\n",
      "Feature2  X  Y\n",
      "Target        \n",
      "1         1  3\n",
      "2         2  0\n"
     ]
    }
   ],
   "source": [
    "import pandas as pd\n",
    "\n",
    "# Sample dataset with features and 'Target' representing cluster assignments\n",
    "data = {\n",
    "    'Feature1': ['A', 'B', 'A', 'A', 'B', 'B'],\n",
    "    'Feature2': ['X', 'X', 'Y', 'Y', 'X', 'Y'],\n",
    "    'Target': [1, 2, 1, 1, 2, 1]\n",
    "}\n",
    "\n",
    "# The pandas DataFrame holding our data\n",
    "df = pd.DataFrame(data)\n",
    "\n",
    "# Using pandas crosstab to create cross-tabulation tables\n",
    "table1 = pd.crosstab(df['Target'], df['Feature1'])\n",
    "table2 = pd.crosstab(df['Target'], df['Feature2'])\n",
    "\n",
    "# Displaying the cross-tabulation tables\n",
    "print(\"Cross-tabulation table for Feature1:\")\n",
    "print(table1)\n",
    "print(\"\\nCross-tabulation table for Feature2:\")\n",
    "print(table2)"
   ]
  },
  {
   "cell_type": "code",
   "execution_count": 2,
   "metadata": {},
   "outputs": [
    {
     "name": "stdout",
     "output_type": "stream",
     "text": [
      "Cross-tabulation table for Feature1:\n",
      "Feature1  A  B  C\n",
      "Target           \n",
      "1         3  0  2\n",
      "2         0  3  0\n",
      "\n",
      "Cross-tabulation table for Feature2:\n",
      "Feature2  X  Y  Z\n",
      "Target           \n",
      "1         3  0  2\n",
      "2         0  3  0\n"
     ]
    }
   ],
   "source": [
    "import pandas as pd\n",
    "\n",
    "# Sample dataset\n",
    "data = {\n",
    "    'Feature1': ['A', 'B', 'A', 'C', 'B', 'B', 'A', 'C'],\n",
    "    'Feature2': ['X', 'Y', 'X', 'Z', 'Y', 'Y', 'X', 'Z'],\n",
    "    'Target': [1, 2, 1, 1, 2, 2, 1, 1]\n",
    "}\n",
    "\n",
    "# TODO: Create a DataFrame called df with a sample dataset\n",
    "df = pd.DataFrame(data)\n",
    "\n",
    "# TODO: Perform cross-tabulation between 'Target' and 'Feature1', save it to cross_tab1\n",
    "cross_tab1 = pd.crosstab(df['Target'],df['Feature1'])\n",
    "\n",
    "# TODO: Perform cross-tabulation between 'Target' and 'Feature2', save it to cross_tab2\n",
    "cross_tab2 = pd.crosstab(df['Target'],df['Feature2'])\n",
    "# TODO: Print out cross_tab1 and cross_tab2 with a descriptive message\n",
    "print(\"Cross-tabulation table for Feature1:\")\n",
    "print(cross_tab1)\n",
    "print(\"\\nCross-tabulation table for Feature2:\")\n",
    "print(cross_tab2)"
   ]
  },
  {
   "cell_type": "code",
   "execution_count": 3,
   "metadata": {},
   "outputs": [
    {
     "name": "stdout",
     "output_type": "stream",
     "text": [
      "Silhouette Scores:  0.5528190123564095\n",
      "Davies-Bouldin Index:  0.6619715465007455\n",
      "Cross-Tabulation: \n",
      " col_0   0   1   2\n",
      "row_0            \n",
      "0      25  20  17\n",
      "1      27  17   6\n",
      "2      21  11   6\n"
     ]
    }
   ],
   "source": [
    "import random\n",
    "from sklearn import datasets\n",
    "from sklearn.cluster import KMeans\n",
    "from sklearn.metrics import silhouette_score, davies_bouldin_score\n",
    "import pandas as pd\n",
    "\n",
    "# Load the Iris dataset and apply KMeans clustering\n",
    "iris = datasets.load_iris()\n",
    "data_points = iris.data\n",
    "kmeans = KMeans(n_clusters=3, random_state=0, n_init=10)\n",
    "kmeans.fit(data_points)\n",
    "cluster_labels = kmeans.labels_\n",
    "\n",
    "# Calculate Silhouette scores\n",
    "silhouette_avg = silhouette_score(data_points, cluster_labels)\n",
    "\n",
    "# Calculate Davies-Bouldin Index\n",
    "db_index = davies_bouldin_score(data_points, cluster_labels)\n",
    "\n",
    "# Perform Cross-Tabulation Analysis\n",
    "random_labels = [random.choice(cluster_labels) for _ in range(len(cluster_labels))]\n",
    "cross_tab = pd.crosstab(cluster_labels, random_labels)\n",
    "\n",
    "# Print out the results\n",
    "print(\"Silhouette Scores: \", silhouette_avg)\n",
    "print(\"Davies-Bouldin Index: \", db_index)\n",
    "print(\"Cross-Tabulation: \\n\", cross_tab)"
   ]
  },
  {
   "cell_type": "code",
   "execution_count": 4,
   "metadata": {},
   "outputs": [
    {
     "name": "stdout",
     "output_type": "stream",
     "text": [
      "Silhouette Scores:  0.6810461692117462\n",
      "Davies-Bouldin Index:  0.4042928371730435\n",
      "Cross-Tabulation:\n",
      " True labels      0   1   2\n",
      "Cluster labels            \n",
      "0               22  15  16\n",
      "1               34  28  35\n"
     ]
    }
   ],
   "source": [
    "import pandas as pd\n",
    "from sklearn import datasets\n",
    "from sklearn.cluster import KMeans\n",
    "from sklearn.metrics import silhouette_score, davies_bouldin_score\n",
    "import random\n",
    "\n",
    "# Loading the Iris dataset\n",
    "iris = datasets.load_iris()\n",
    "data_points = iris.data\n",
    "\n",
    "# Applying KMeans clustering \n",
    "kmeans = KMeans(n_clusters=2, random_state=0, n_init=10)\n",
    "kmeans.fit(data_points)\n",
    "cluster_labels = kmeans.labels_\n",
    "\n",
    "# Silhouette scores calculation\n",
    "silhouette_scores = silhouette_score(data_points, cluster_labels)\n",
    "\n",
    "# Davies-Bouldin index computation\n",
    "db_index = davies_bouldin_score(data_points, cluster_labels)\n",
    "\n",
    "# Defining random labels for cross-tabulation demonstration purposes\n",
    "# In an actual scenario, these would be true labels, but they are not provided here.\n",
    "true_labels = [random.randint(0, 2) for _ in range(len(cluster_labels))]\n",
    "\n",
    "# Cross-tabulation\n",
    "cross_tab = pd.crosstab(pd.Series(cluster_labels, name='Cluster labels'), \n",
    "                        pd.Series(true_labels, name='True labels'))\n",
    "\n",
    "# Outputting results\n",
    "print(\"Silhouette Scores: \", silhouette_scores)\n",
    "print(\"Davies-Bouldin Index: \", db_index)\n",
    "print(\"Cross-Tabulation:\\n\", cross_tab)"
   ]
  }
 ],
 "metadata": {
  "kernelspec": {
   "display_name": "base",
   "language": "python",
   "name": "python3"
  },
  "language_info": {
   "codemirror_mode": {
    "name": "ipython",
    "version": 3
   },
   "file_extension": ".py",
   "mimetype": "text/x-python",
   "name": "python",
   "nbconvert_exporter": "python",
   "pygments_lexer": "ipython3",
   "version": "3.11.7"
  }
 },
 "nbformat": 4,
 "nbformat_minor": 2
}
