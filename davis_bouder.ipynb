{
 "cells": [
  {
   "cell_type": "code",
   "execution_count": 1,
   "metadata": {},
   "outputs": [
    {
     "name": "stdout",
     "output_type": "stream",
     "text": [
      "The Davies-Bouldin index for the given star squadron organization is: 0.18580586952358266\n"
     ]
    }
   ],
   "source": [
    "from sklearn.metrics import davies_bouldin_score\n",
    "\n",
    "# Define the star map (coordinates of stars)\n",
    "star_map = [\n",
    "    [0.5, 1.0],\n",
    "    [1.5, 2.0],\n",
    "    [0.8, 1.2],\n",
    "    [-1.0, -2.0],\n",
    "    [-1.2, -1.8],\n",
    "    [-0.9, -2.2]\n",
    "]\n",
    "\n",
    "# Define the squadron labels for each star in the star map\n",
    "squadron_labels = [0, 0, 0, 1, 1, 1]\n",
    "\n",
    "# Calculate the Davies-Bouldin Index to evaluate squadron organization\n",
    "db_index_sklearn = davies_bouldin_score(star_map, squadron_labels)\n",
    "print(f\"The Davies-Bouldin index for the given star squadron organization is: {db_index_sklearn}\")"
   ]
  },
  {
   "cell_type": "code",
   "execution_count": 2,
   "metadata": {},
   "outputs": [
    {
     "name": "stdout",
     "output_type": "stream",
     "text": [
      "The Davies-Bouldin index for the given clustering is: 0.07384957301372998\n",
      "The Davies-Bouldin index for the given clustering using sklearn is: 0.07384957301373159\n"
     ]
    }
   ],
   "source": [
    "import math\n",
    "from sklearn.metrics import davies_bouldin_score\n",
    "\n",
    "# Sample dataset and labels\n",
    "dataset = [\n",
    "    [1.0, 2.0],\n",
    "    [1.2, 1.9],\n",
    "    [0.8, 1.8],\n",
    "    [3.8, 4.0],\n",
    "    [3.9, 4.1],\n",
    "    [4.0, 4.2]\n",
    "]\n",
    "\n",
    "labels = [0, 0, 0, 1, 1, 1]\n",
    "\n",
    "# Function to compute the mean of points in a cluster\n",
    "def cluster_mean(cluster):\n",
    "    return [sum([point[i] for point in cluster]) / len(cluster) for i in range(len(cluster[0]))]\n",
    "\n",
    "# Function to compute Euclidean distance between two points\n",
    "def euclidean_distance(point1, point2):\n",
    "    return math.sqrt(sum([(point1[i] - point2[i])**2 for i in range(len(point1))]))\n",
    "\n",
    "# Function to compute the tightness (average distance to centroid) of a cluster\n",
    "def cluster_tightness(cluster):\n",
    "    centroid = cluster_mean(cluster)\n",
    "    distances = [euclidean_distance(point, centroid) for point in cluster]\n",
    "    return sum(distances) / len(distances)\n",
    "\n",
    "# Function to compute the separation between two clusters\n",
    "def cluster_separation(cluster1, cluster2):\n",
    "    centroid1, centroid2 = cluster_mean(cluster1), cluster_mean(cluster2)\n",
    "    return euclidean_distance(centroid1, centroid2)\n",
    "\n",
    "# Grouping the data into clusters\n",
    "clusters = [[], []] \n",
    "for point, label in zip(dataset, labels):\n",
    "    clusters[label].append(point)\n",
    "\n",
    "# Computing the Davies-Bouldin Index\n",
    "cluster_tightnesses = [cluster_tightness(cluster) for cluster in clusters]\n",
    "db_indexes = []\n",
    "for i in range(len(clusters)):\n",
    "    db_indexes_for_i = []\n",
    "    for j in range(len(clusters)):\n",
    "        if i != j:\n",
    "            # Compute the ratio using cluster tightnesses and separation\n",
    "            ratio = (cluster_tightnesses[i] + cluster_tightnesses[j]) / cluster_separation(clusters[i], clusters[j])\n",
    "            db_indexes_for_i.append(ratio)\n",
    "    db_indexes.append(max(db_indexes_for_i))\n",
    "\n",
    "db_index = sum(db_indexes) / len(clusters)\n",
    "print(f\"The Davies-Bouldin index for the given clustering is: {db_index}\")\n",
    "\n",
    "# Using scikit-learn to compute Davies-Bouldin Index\n",
    "db_index_sklearn = davies_bouldin_score(dataset, labels)\n",
    "print(f\"The Davies-Bouldin index for the given clustering using sklearn is: {db_index_sklearn}\")\n"
   ]
  }
 ],
 "metadata": {
  "kernelspec": {
   "display_name": "base",
   "language": "python",
   "name": "python3"
  },
  "language_info": {
   "codemirror_mode": {
    "name": "ipython",
    "version": 3
   },
   "file_extension": ".py",
   "mimetype": "text/x-python",
   "name": "python",
   "nbconvert_exporter": "python",
   "pygments_lexer": "ipython3",
   "version": "3.11.7"
  }
 },
 "nbformat": 4,
 "nbformat_minor": 2
}
